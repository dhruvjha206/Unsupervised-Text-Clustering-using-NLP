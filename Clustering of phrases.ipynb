{
 "cells": [
  {
   "cell_type": "code",
   "execution_count": 1,
   "metadata": {},
   "outputs": [],
   "source": [
    "import numpy as np\n",
    "import pandas as pd\n",
    "import matplotlib.pyplot as plt\n",
    "%matplotlib inline\n",
    "\n",
    "from sklearn import metrics\n",
    "from sklearn.feature_extraction.text import CountVectorizer\n",
    "from sklearn.feature_extraction.text import TfidfVectorizer\n",
    "from sklearn.decomposition import LatentDirichletAllocation\n",
    "from sklearn.manifold import TSNE\n",
    "\n",
    "import warnings\n",
    "warnings.filterwarnings('ignore', category=DeprecationWarning)\n",
    "\n",
    "pd.set_option(\"display.max_rows\", 500)\n",
    "pd.set_option(\"display.max_columns\", 500)\n",
    "pd.set_option(\"max_colwidth\", 400)"
   ]
  },
  {
   "cell_type": "code",
   "execution_count": 2,
   "metadata": {},
   "outputs": [
    {
     "data": {
      "text/html": [
       "<div>\n",
       "<style scoped>\n",
       "    .dataframe tbody tr th:only-of-type {\n",
       "        vertical-align: middle;\n",
       "    }\n",
       "\n",
       "    .dataframe tbody tr th {\n",
       "        vertical-align: top;\n",
       "    }\n",
       "\n",
       "    .dataframe thead th {\n",
       "        text-align: right;\n",
       "    }\n",
       "</style>\n",
       "<table border=\"1\" class=\"dataframe\">\n",
       "  <thead>\n",
       "    <tr style=\"text-align: right;\">\n",
       "      <th></th>\n",
       "      <th>cluster_id</th>\n",
       "      <th>id</th>\n",
       "      <th>phrase</th>\n",
       "    </tr>\n",
       "  </thead>\n",
       "  <tbody>\n",
       "    <tr>\n",
       "      <th>0</th>\n",
       "      <td>0</td>\n",
       "      <td>0334a0d055104e9a931c079e338be9a1</td>\n",
       "      <td>Would use the product again if needed Joe .</td>\n",
       "    </tr>\n",
       "    <tr>\n",
       "      <th>1</th>\n",
       "      <td>0</td>\n",
       "      <td>796d6c25ab8849cbba427f1f3e250d80</td>\n",
       "      <td>Have been using the product for a week now</td>\n",
       "    </tr>\n",
       "    <tr>\n",
       "      <th>2</th>\n",
       "      <td>0</td>\n",
       "      <td>661f5299cd8944a8a3841fd4f049dee9</td>\n",
       "      <td>Will continue to use this product when I have a issue .</td>\n",
       "    </tr>\n",
       "    <tr>\n",
       "      <th>3</th>\n",
       "      <td>0</td>\n",
       "      <td>da831e4bc58d4505aec3c583f0248f8b</td>\n",
       "      <td>Have always had good luck with this product .</td>\n",
       "    </tr>\n",
       "    <tr>\n",
       "      <th>4</th>\n",
       "      <td>0</td>\n",
       "      <td>0ea997675e7344419d1540d3e0bc26c3</td>\n",
       "      <td>Will continue to use This product as This product gets the job done .</td>\n",
       "    </tr>\n",
       "    <tr>\n",
       "      <th>...</th>\n",
       "      <td>...</td>\n",
       "      <td>...</td>\n",
       "      <td>...</td>\n",
       "    </tr>\n",
       "    <tr>\n",
       "      <th>599</th>\n",
       "      <td>10</td>\n",
       "      <td>93f874167d11473f8d36d1cda0a0081c</td>\n",
       "      <td>Spray has no strong odor</td>\n",
       "    </tr>\n",
       "    <tr>\n",
       "      <th>600</th>\n",
       "      <td>10</td>\n",
       "      <td>d50fe37fab064408a891aa9ef45dcd70</td>\n",
       "      <td>Spray is nice to keep out on the porch on a summer day</td>\n",
       "    </tr>\n",
       "    <tr>\n",
       "      <th>601</th>\n",
       "      <td>10</td>\n",
       "      <td>3e1e8901d5ab4fc9b602ecfdca1220cb</td>\n",
       "      <td>Spray does not leave any oily stinky stains</td>\n",
       "    </tr>\n",
       "    <tr>\n",
       "      <th>602</th>\n",
       "      <td>10</td>\n",
       "      <td>c84e1b1196a242d18938af6c60403afc</td>\n",
       "      <td>Love that the scent of this spray is not chemical smelling .</td>\n",
       "    </tr>\n",
       "    <tr>\n",
       "      <th>603</th>\n",
       "      <td>10</td>\n",
       "      <td>fd4c71f399104d59ad6c1013fc414c67</td>\n",
       "      <td>Bug spray does not smell nauseating .</td>\n",
       "    </tr>\n",
       "  </tbody>\n",
       "</table>\n",
       "<p>604 rows × 3 columns</p>\n",
       "</div>"
      ],
      "text/plain": [
       "     cluster_id                                id  \\\n",
       "0             0  0334a0d055104e9a931c079e338be9a1   \n",
       "1             0  796d6c25ab8849cbba427f1f3e250d80   \n",
       "2             0  661f5299cd8944a8a3841fd4f049dee9   \n",
       "3             0  da831e4bc58d4505aec3c583f0248f8b   \n",
       "4             0  0ea997675e7344419d1540d3e0bc26c3   \n",
       "..          ...                               ...   \n",
       "599          10  93f874167d11473f8d36d1cda0a0081c   \n",
       "600          10  d50fe37fab064408a891aa9ef45dcd70   \n",
       "601          10  3e1e8901d5ab4fc9b602ecfdca1220cb   \n",
       "602          10  c84e1b1196a242d18938af6c60403afc   \n",
       "603          10  fd4c71f399104d59ad6c1013fc414c67   \n",
       "\n",
       "                                                                    phrase  \n",
       "0                              Would use the product again if needed Joe .  \n",
       "1                               Have been using the product for a week now  \n",
       "2                  Will continue to use this product when I have a issue .  \n",
       "3                            Have always had good luck with this product .  \n",
       "4    Will continue to use This product as This product gets the job done .  \n",
       "..                                                                     ...  \n",
       "599                                               Spray has no strong odor  \n",
       "600                 Spray is nice to keep out on the porch on a summer day  \n",
       "601                            Spray does not leave any oily stinky stains  \n",
       "602           Love that the scent of this spray is not chemical smelling .  \n",
       "603                                  Bug spray does not smell nauseating .  \n",
       "\n",
       "[604 rows x 3 columns]"
      ]
     },
     "execution_count": 2,
     "metadata": {},
     "output_type": "execute_result"
    }
   ],
   "source": [
    "import pandas as pd\n",
    "\n",
    "df = pd.read_excel(r'C:\\Users\\Dhruv Kumar Jha\\Downloads\\Graphene AI\\Unsupervised-Text-Clustering using NLP\\interns-dataset.xlsx')\n",
    "df"
   ]
  },
  {
   "cell_type": "code",
   "execution_count": 3,
   "metadata": {},
   "outputs": [
    {
     "data": {
      "text/html": [
       "<div>\n",
       "<style scoped>\n",
       "    .dataframe tbody tr th:only-of-type {\n",
       "        vertical-align: middle;\n",
       "    }\n",
       "\n",
       "    .dataframe tbody tr th {\n",
       "        vertical-align: top;\n",
       "    }\n",
       "\n",
       "    .dataframe thead th {\n",
       "        text-align: right;\n",
       "    }\n",
       "</style>\n",
       "<table border=\"1\" class=\"dataframe\">\n",
       "  <thead>\n",
       "    <tr style=\"text-align: right;\">\n",
       "      <th></th>\n",
       "      <th>cluster_id</th>\n",
       "      <th>phrase</th>\n",
       "    </tr>\n",
       "  </thead>\n",
       "  <tbody>\n",
       "    <tr>\n",
       "      <th>0</th>\n",
       "      <td>0</td>\n",
       "      <td>Would use the product again if needed Joe .</td>\n",
       "    </tr>\n",
       "    <tr>\n",
       "      <th>1</th>\n",
       "      <td>0</td>\n",
       "      <td>Have been using the product for a week now</td>\n",
       "    </tr>\n",
       "    <tr>\n",
       "      <th>2</th>\n",
       "      <td>0</td>\n",
       "      <td>Will continue to use this product when I have a issue .</td>\n",
       "    </tr>\n",
       "    <tr>\n",
       "      <th>3</th>\n",
       "      <td>0</td>\n",
       "      <td>Have always had good luck with this product .</td>\n",
       "    </tr>\n",
       "    <tr>\n",
       "      <th>4</th>\n",
       "      <td>0</td>\n",
       "      <td>Will continue to use This product as This product gets the job done .</td>\n",
       "    </tr>\n",
       "    <tr>\n",
       "      <th>...</th>\n",
       "      <td>...</td>\n",
       "      <td>...</td>\n",
       "    </tr>\n",
       "    <tr>\n",
       "      <th>599</th>\n",
       "      <td>10</td>\n",
       "      <td>Spray has no strong odor</td>\n",
       "    </tr>\n",
       "    <tr>\n",
       "      <th>600</th>\n",
       "      <td>10</td>\n",
       "      <td>Spray is nice to keep out on the porch on a summer day</td>\n",
       "    </tr>\n",
       "    <tr>\n",
       "      <th>601</th>\n",
       "      <td>10</td>\n",
       "      <td>Spray does not leave any oily stinky stains</td>\n",
       "    </tr>\n",
       "    <tr>\n",
       "      <th>602</th>\n",
       "      <td>10</td>\n",
       "      <td>Love that the scent of this spray is not chemical smelling .</td>\n",
       "    </tr>\n",
       "    <tr>\n",
       "      <th>603</th>\n",
       "      <td>10</td>\n",
       "      <td>Bug spray does not smell nauseating .</td>\n",
       "    </tr>\n",
       "  </tbody>\n",
       "</table>\n",
       "<p>604 rows × 2 columns</p>\n",
       "</div>"
      ],
      "text/plain": [
       "     cluster_id  \\\n",
       "0             0   \n",
       "1             0   \n",
       "2             0   \n",
       "3             0   \n",
       "4             0   \n",
       "..          ...   \n",
       "599          10   \n",
       "600          10   \n",
       "601          10   \n",
       "602          10   \n",
       "603          10   \n",
       "\n",
       "                                                                    phrase  \n",
       "0                              Would use the product again if needed Joe .  \n",
       "1                               Have been using the product for a week now  \n",
       "2                  Will continue to use this product when I have a issue .  \n",
       "3                            Have always had good luck with this product .  \n",
       "4    Will continue to use This product as This product gets the job done .  \n",
       "..                                                                     ...  \n",
       "599                                               Spray has no strong odor  \n",
       "600                 Spray is nice to keep out on the porch on a summer day  \n",
       "601                            Spray does not leave any oily stinky stains  \n",
       "602           Love that the scent of this spray is not chemical smelling .  \n",
       "603                                  Bug spray does not smell nauseating .  \n",
       "\n",
       "[604 rows x 2 columns]"
      ]
     },
     "execution_count": 3,
     "metadata": {},
     "output_type": "execute_result"
    }
   ],
   "source": [
    "df.drop(df.columns[[1]], axis=1, inplace=True)\n",
    "df"
   ]
  },
  {
   "cell_type": "code",
   "execution_count": 4,
   "metadata": {},
   "outputs": [
    {
     "name": "stdout",
     "output_type": "stream",
     "text": [
      "Wall time: 2.36 s\n"
     ]
    },
    {
     "data": {
      "text/html": [
       "<div>\n",
       "<style scoped>\n",
       "    .dataframe tbody tr th:only-of-type {\n",
       "        vertical-align: middle;\n",
       "    }\n",
       "\n",
       "    .dataframe tbody tr th {\n",
       "        vertical-align: top;\n",
       "    }\n",
       "\n",
       "    .dataframe thead th {\n",
       "        text-align: right;\n",
       "    }\n",
       "</style>\n",
       "<table border=\"1\" class=\"dataframe\">\n",
       "  <thead>\n",
       "    <tr style=\"text-align: right;\">\n",
       "      <th></th>\n",
       "      <th>cluster_id</th>\n",
       "      <th>phrase</th>\n",
       "      <th>phrase_clean</th>\n",
       "    </tr>\n",
       "  </thead>\n",
       "  <tbody>\n",
       "    <tr>\n",
       "      <th>0</th>\n",
       "      <td>0</td>\n",
       "      <td>Would use the product again if needed Joe .</td>\n",
       "      <td>would use product need joe</td>\n",
       "    </tr>\n",
       "    <tr>\n",
       "      <th>1</th>\n",
       "      <td>0</td>\n",
       "      <td>Have been using the product for a week now</td>\n",
       "      <td>use product week</td>\n",
       "    </tr>\n",
       "    <tr>\n",
       "      <th>2</th>\n",
       "      <td>0</td>\n",
       "      <td>Will continue to use this product when I have a issue .</td>\n",
       "      <td>continue use product issue</td>\n",
       "    </tr>\n",
       "    <tr>\n",
       "      <th>3</th>\n",
       "      <td>0</td>\n",
       "      <td>Have always had good luck with this product .</td>\n",
       "      <td>always good luck product</td>\n",
       "    </tr>\n",
       "    <tr>\n",
       "      <th>4</th>\n",
       "      <td>0</td>\n",
       "      <td>Will continue to use This product as This product gets the job done .</td>\n",
       "      <td>continue use product product get job do</td>\n",
       "    </tr>\n",
       "    <tr>\n",
       "      <th>...</th>\n",
       "      <td>...</td>\n",
       "      <td>...</td>\n",
       "      <td>...</td>\n",
       "    </tr>\n",
       "    <tr>\n",
       "      <th>599</th>\n",
       "      <td>10</td>\n",
       "      <td>Spray has no strong odor</td>\n",
       "      <td>spray strong odor</td>\n",
       "    </tr>\n",
       "    <tr>\n",
       "      <th>600</th>\n",
       "      <td>10</td>\n",
       "      <td>Spray is nice to keep out on the porch on a summer day</td>\n",
       "      <td>spray nice keep porch summer day</td>\n",
       "    </tr>\n",
       "    <tr>\n",
       "      <th>601</th>\n",
       "      <td>10</td>\n",
       "      <td>Spray does not leave any oily stinky stains</td>\n",
       "      <td>spray leave oily stinky stain</td>\n",
       "    </tr>\n",
       "    <tr>\n",
       "      <th>602</th>\n",
       "      <td>10</td>\n",
       "      <td>Love that the scent of this spray is not chemical smelling .</td>\n",
       "      <td>love scent spray chemical smelling</td>\n",
       "    </tr>\n",
       "    <tr>\n",
       "      <th>603</th>\n",
       "      <td>10</td>\n",
       "      <td>Bug spray does not smell nauseating .</td>\n",
       "      <td>bug spray smell nauseate</td>\n",
       "    </tr>\n",
       "  </tbody>\n",
       "</table>\n",
       "<p>604 rows × 3 columns</p>\n",
       "</div>"
      ],
      "text/plain": [
       "     cluster_id  \\\n",
       "0             0   \n",
       "1             0   \n",
       "2             0   \n",
       "3             0   \n",
       "4             0   \n",
       "..          ...   \n",
       "599          10   \n",
       "600          10   \n",
       "601          10   \n",
       "602          10   \n",
       "603          10   \n",
       "\n",
       "                                                                    phrase  \\\n",
       "0                              Would use the product again if needed Joe .   \n",
       "1                               Have been using the product for a week now   \n",
       "2                  Will continue to use this product when I have a issue .   \n",
       "3                            Have always had good luck with this product .   \n",
       "4    Will continue to use This product as This product gets the job done .   \n",
       "..                                                                     ...   \n",
       "599                                               Spray has no strong odor   \n",
       "600                 Spray is nice to keep out on the porch on a summer day   \n",
       "601                            Spray does not leave any oily stinky stains   \n",
       "602           Love that the scent of this spray is not chemical smelling .   \n",
       "603                                  Bug spray does not smell nauseating .   \n",
       "\n",
       "                                phrase_clean  \n",
       "0                 would use product need joe  \n",
       "1                           use product week  \n",
       "2                 continue use product issue  \n",
       "3                   always good luck product  \n",
       "4    continue use product product get job do  \n",
       "..                                       ...  \n",
       "599                        spray strong odor  \n",
       "600         spray nice keep porch summer day  \n",
       "601            spray leave oily stinky stain  \n",
       "602       love scent spray chemical smelling  \n",
       "603                 bug spray smell nauseate  \n",
       "\n",
       "[604 rows x 3 columns]"
      ]
     },
     "execution_count": 4,
     "metadata": {},
     "output_type": "execute_result"
    }
   ],
   "source": [
    "%%time\n",
    "\n",
    "# return the wordnet object value corresponding to the POS tag\n",
    "from nltk.corpus import wordnet\n",
    "\n",
    "def get_wordnet_pos(pos_tag):\n",
    "    if pos_tag.startswith('J'):\n",
    "        return wordnet.ADJ\n",
    "    elif pos_tag.startswith('V'):\n",
    "        return wordnet.VERB\n",
    "    elif pos_tag.startswith('N'):\n",
    "        return wordnet.NOUN\n",
    "    elif pos_tag.startswith('R'):\n",
    "        return wordnet.ADV\n",
    "    else:\n",
    "        return wordnet.NOUN\n",
    "    \n",
    "import string\n",
    "from nltk import pos_tag\n",
    "from nltk.corpus import stopwords\n",
    "from nltk.tokenize import WhitespaceTokenizer\n",
    "from nltk.stem import WordNetLemmatizer\n",
    "\n",
    "def clean_text(text):\n",
    "    # lower text\n",
    "    text = text.lower()\n",
    "    # tokenize text and remove puncutation\n",
    "    text = [word.strip(string.punctuation) for word in text.split(\" \")]\n",
    "    # remove words that contain numbers\n",
    "    text = [word for word in text if not any(c.isdigit() for c in word)]\n",
    "    # remove stop words\n",
    "    stop = stopwords.words('english')\n",
    "    text = [x for x in text if x not in stop]\n",
    "    # remove empty tokens\n",
    "    text = [t for t in text if len(t) > 0]\n",
    "    # pos tag text\n",
    "    pos_tags = pos_tag(text)\n",
    "    # lemmatize text\n",
    "    text = [WordNetLemmatizer().lemmatize(t[0], get_wordnet_pos(t[1])) for t in pos_tags]\n",
    "    # remove words with only one letter\n",
    "    text = [t for t in text if len(t) > 1]\n",
    "    # join all\n",
    "    text = \" \".join(text)\n",
    "    return(text)\n",
    "\n",
    "# clean text data\n",
    "df[\"phrase_clean\"] = df[\"phrase\"].apply(lambda x: clean_text(x))\n",
    "\n",
    "df"
   ]
  },
  {
   "cell_type": "code",
   "execution_count": 5,
   "metadata": {},
   "outputs": [
    {
     "data": {
      "text/plain": [
       "0                   would use product need joe\n",
       "1                             use product week\n",
       "2                   continue use product issue\n",
       "3                     always good luck product\n",
       "4      continue use product product get job do\n",
       "                        ...                   \n",
       "599                          spray strong odor\n",
       "600           spray nice keep porch summer day\n",
       "601              spray leave oily stinky stain\n",
       "602         love scent spray chemical smelling\n",
       "603                   bug spray smell nauseate\n",
       "Name: phrase_clean, Length: 604, dtype: object"
      ]
     },
     "execution_count": 5,
     "metadata": {},
     "output_type": "execute_result"
    }
   ],
   "source": [
    "X = df['phrase_clean']\n",
    "X"
   ]
  },
  {
   "cell_type": "code",
   "execution_count": 6,
   "metadata": {},
   "outputs": [
    {
     "data": {
      "text/plain": [
       "604"
      ]
     },
     "execution_count": 6,
     "metadata": {},
     "output_type": "execute_result"
    }
   ],
   "source": [
    "len(X)"
   ]
  },
  {
   "cell_type": "markdown",
   "metadata": {},
   "source": [
    "## LDA with Scikit-learn\n"
   ]
  },
  {
   "cell_type": "code",
   "execution_count": 7,
   "metadata": {},
   "outputs": [
    {
     "data": {
      "text/plain": [
       "(604, 66)"
      ]
     },
     "execution_count": 7,
     "metadata": {},
     "output_type": "execute_result"
    }
   ],
   "source": [
    "count_vectorizer = CountVectorizer(ngram_range = (1, 2), max_df = 500, min_df = 10)\n",
    "\n",
    "transformed_vector = count_vectorizer.fit_transform(X)\n",
    "transformed_vector.shape"
   ]
  },
  {
   "cell_type": "code",
   "execution_count": 8,
   "metadata": {},
   "outputs": [
    {
     "data": {
      "text/plain": [
       "['also',\n",
       " 'ant',\n",
       " 'around',\n",
       " 'around child',\n",
       " 'around kid',\n",
       " 'around pet',\n",
       " 'away',\n",
       " 'bad',\n",
       " 'bug',\n",
       " 'buy',\n",
       " 'chemical',\n",
       " 'chemical smell',\n",
       " 'child',\n",
       " 'control',\n",
       " 'definitely',\n",
       " 'delivery',\n",
       " 'effective',\n",
       " 'exterminator',\n",
       " 'fast',\n",
       " 'friend']"
      ]
     },
     "execution_count": 8,
     "metadata": {},
     "output_type": "execute_result"
    }
   ],
   "source": [
    "feature_names = count_vectorizer.get_feature_names()\n",
    "feature_names[0:20]"
   ]
  },
  {
   "cell_type": "code",
   "execution_count": 9,
   "metadata": {},
   "outputs": [
    {
     "name": "stdout",
     "output_type": "stream",
     "text": [
      "Wall time: 1min 52s\n"
     ]
    }
   ],
   "source": [
    "%%time\n",
    "\n",
    "perplexities = []\n",
    "for NUM_TOPICS in range(5, 101):\n",
    "    lda_model = LatentDirichletAllocation(n_components = NUM_TOPICS, max_iter=20)\n",
    "    lda = lda_model.fit_transform(transformed_vector)\n",
    "    perplexities.append(lda_model.perplexity(transformed_vector))"
   ]
  },
  {
   "cell_type": "code",
   "execution_count": 10,
   "metadata": {},
   "outputs": [
    {
     "data": {
      "image/png": "[encoded data removed]",
      "text/plain": [
       "<Figure size 576x432 with 1 Axes>"
      ]
     },
     "metadata": {
      "needs_background": "light"
     },
     "output_type": "display_data"
    }
   ],
   "source": [
    "x = range(5, 101)\n",
    "y = perplexities\n",
    "\n",
    "fig, ax = plt.subplots(figsize=(8,6))\n",
    "ax.plot(x, y)\n",
    "\n",
    "ax.set(xlabel = 'num topics', ylabel = 'perplexity', title = 'LDA')\n",
    "ax.grid()\n",
    "\n",
    "plt.show()"
   ]
  },
  {
   "cell_type": "code",
   "execution_count": 11,
   "metadata": {},
   "outputs": [
    {
     "name": "stdout",
     "output_type": "stream",
     "text": [
      "Wall time: 2min 1s\n"
     ]
    }
   ],
   "source": [
    "%%time\n",
    "\n",
    "scores = []\n",
    "for NUM_TOPICS in range(5,101):\n",
    "    lda_model = LatentDirichletAllocation(n_components = NUM_TOPICS, max_iter=20)\n",
    "    lda = lda_model.fit_transform(transformed_vector)\n",
    "    scores.append(lda_model.score(transformed_vector))"
   ]
  },
  {
   "cell_type": "code",
   "execution_count": 12,
   "metadata": {},
   "outputs": [
    {
     "data": {
      "image/png": "[encoded data removed]",
      "text/plain": [
       "<Figure size 576x432 with 1 Axes>"
      ]
     },
     "metadata": {
      "needs_background": "light"
     },
     "output_type": "display_data"
    }
   ],
   "source": [
    "x = range(5, 101)\n",
    "y = scores\n",
    "\n",
    "fig, ax = plt.subplots(figsize=(8,6))\n",
    "ax.plot(x, y)\n",
    "\n",
    "ax.set(xlabel = 'num topics', ylabel = 'score', title = 'LDA')\n",
    "ax.grid()\n",
    "\n",
    "plt.show()"
   ]
  },
  {
   "cell_type": "markdown",
   "metadata": {},
   "source": [
    "Some literature suggests that it might be possible to use perplexity (https://en.wikipedia.org/wiki/Perplexity) to determine an optimal number of topics, but others have questioned relying on it. Regardless, the scikit-learn implementation appears to still have a bug(https://github.com/scikit-learn/scikit-learn/issues/6777) that makes the perplexity value unreliable."
   ]
  },
  {
   "cell_type": "code",
   "execution_count": 13,
   "metadata": {},
   "outputs": [
    {
     "data": {
      "text/plain": [
       "(604, 11)"
      ]
     },
     "execution_count": 13,
     "metadata": {},
     "output_type": "execute_result"
    }
   ],
   "source": [
    "NUM_TOPICS = 11\n",
    "\n",
    "lda_model = LatentDirichletAllocation(n_components = NUM_TOPICS, max_iter=20)\n",
    "\n",
    "lda = lda_model.fit_transform(transformed_vector)\n",
    "lda.shape"
   ]
  },
  {
   "cell_type": "code",
   "execution_count": 14,
   "metadata": {},
   "outputs": [
    {
     "data": {
      "text/plain": [
       "1.0"
      ]
     },
     "execution_count": 14,
     "metadata": {},
     "output_type": "execute_result"
    }
   ],
   "source": [
    "sum(lda[0])"
   ]
  },
  {
   "cell_type": "code",
   "execution_count": 15,
   "metadata": {},
   "outputs": [
    {
     "data": {
      "text/plain": [
       "(11, 66)"
      ]
     },
     "execution_count": 15,
     "metadata": {},
     "output_type": "execute_result"
    }
   ],
   "source": [
    "lda_model.components_.shape"
   ]
  },
  {
   "cell_type": "code",
   "execution_count": 16,
   "metadata": {},
   "outputs": [
    {
     "data": {
      "text/plain": [
       "-6405.9192560366255"
      ]
     },
     "execution_count": 16,
     "metadata": {},
     "output_type": "execute_result"
    }
   ],
   "source": [
    "lda_model.score(transformed_vector)"
   ]
  },
  {
   "cell_type": "code",
   "execution_count": 17,
   "metadata": {},
   "outputs": [],
   "source": [
    "def print_topic(identifier, top_words=10):\n",
    "    for topic_id, topic_word_probs in enumerate(lda_model.components_):\n",
    "        if topic_id == identifier:\n",
    "            print(f\"Topic {topic_id}: \")\n",
    "            \n",
    "            top_feature_names = [feature_names[i] for i in topic_word_probs.argsort()[: -top_words - 1: -1]]\n",
    "            \n",
    "            print(\" \".join(top_feature_names))"
   ]
  },
  {
   "cell_type": "code",
   "execution_count": 18,
   "metadata": {},
   "outputs": [
    {
     "name": "stdout",
     "output_type": "stream",
     "text": [
      "Topic 0: \n",
      "safe pet around kid friendly safe around around kid use pet friendly around pet\n",
      "Topic 1: \n",
      "year use keep hot shot hot shot time roach product away\n",
      "Topic 2: \n",
      "ant exterminator get see around definitely money insect year buy\n",
      "Topic 3: \n",
      "good bug friend value money recommend stuff away see insect\n",
      "Topic 4: \n",
      "great price value money also product good stuff well use\n",
      "Topic 5: \n",
      "smell delivery fast like bad nice odor lemon also spray\n",
      "Topic 6: \n",
      "pest odor control pest control chemical effective smell chemical smell spray strong\n",
      "Topic 7: \n",
      "recommend would spray product would recommend definitely buy recommend product friend pest\n",
      "Topic 8: \n",
      "safe child love around use safe use around child use around safe around also\n",
      "Topic 9: \n",
      "product scent use strong use product stuff also insect nice lemon\n",
      "Topic 10: \n",
      "work well worth work well product price money definitely stuff lemon\n"
     ]
    }
   ],
   "source": [
    "for i in range(NUM_TOPICS):\n",
    "    print_topic(i, top_words=10)"
   ]
  },
  {
   "cell_type": "code",
   "execution_count": 19,
   "metadata": {},
   "outputs": [],
   "source": [
    "topics = []\n",
    "\n",
    "for i in range(len(X)):\n",
    "    topics.append(lda[i].argmax())"
   ]
  },
  {
   "cell_type": "code",
   "execution_count": 20,
   "metadata": {},
   "outputs": [
    {
     "data": {
      "text/html": [
       "<div>\n",
       "<style scoped>\n",
       "    .dataframe tbody tr th:only-of-type {\n",
       "        vertical-align: middle;\n",
       "    }\n",
       "\n",
       "    .dataframe tbody tr th {\n",
       "        vertical-align: top;\n",
       "    }\n",
       "\n",
       "    .dataframe thead th {\n",
       "        text-align: right;\n",
       "    }\n",
       "</style>\n",
       "<table border=\"1\" class=\"dataframe\">\n",
       "  <thead>\n",
       "    <tr style=\"text-align: right;\">\n",
       "      <th></th>\n",
       "      <th>cluster_id</th>\n",
       "      <th>phrase</th>\n",
       "      <th>phrase_clean</th>\n",
       "      <th>topic</th>\n",
       "    </tr>\n",
       "  </thead>\n",
       "  <tbody>\n",
       "    <tr>\n",
       "      <th>0</th>\n",
       "      <td>0</td>\n",
       "      <td>Would use the product again if needed Joe .</td>\n",
       "      <td>would use product need joe</td>\n",
       "      <td>9</td>\n",
       "    </tr>\n",
       "    <tr>\n",
       "      <th>1</th>\n",
       "      <td>0</td>\n",
       "      <td>Have been using the product for a week now</td>\n",
       "      <td>use product week</td>\n",
       "      <td>9</td>\n",
       "    </tr>\n",
       "    <tr>\n",
       "      <th>2</th>\n",
       "      <td>0</td>\n",
       "      <td>Will continue to use this product when I have a issue .</td>\n",
       "      <td>continue use product issue</td>\n",
       "      <td>9</td>\n",
       "    </tr>\n",
       "    <tr>\n",
       "      <th>3</th>\n",
       "      <td>0</td>\n",
       "      <td>Have always had good luck with this product .</td>\n",
       "      <td>always good luck product</td>\n",
       "      <td>3</td>\n",
       "    </tr>\n",
       "    <tr>\n",
       "      <th>4</th>\n",
       "      <td>0</td>\n",
       "      <td>Will continue to use This product as This product gets the job done .</td>\n",
       "      <td>continue use product product get job do</td>\n",
       "      <td>9</td>\n",
       "    </tr>\n",
       "    <tr>\n",
       "      <th>...</th>\n",
       "      <td>...</td>\n",
       "      <td>...</td>\n",
       "      <td>...</td>\n",
       "      <td>...</td>\n",
       "    </tr>\n",
       "    <tr>\n",
       "      <th>599</th>\n",
       "      <td>10</td>\n",
       "      <td>Spray has no strong odor</td>\n",
       "      <td>spray strong odor</td>\n",
       "      <td>6</td>\n",
       "    </tr>\n",
       "    <tr>\n",
       "      <th>600</th>\n",
       "      <td>10</td>\n",
       "      <td>Spray is nice to keep out on the porch on a summer day</td>\n",
       "      <td>spray nice keep porch summer day</td>\n",
       "      <td>1</td>\n",
       "    </tr>\n",
       "    <tr>\n",
       "      <th>601</th>\n",
       "      <td>10</td>\n",
       "      <td>Spray does not leave any oily stinky stains</td>\n",
       "      <td>spray leave oily stinky stain</td>\n",
       "      <td>7</td>\n",
       "    </tr>\n",
       "    <tr>\n",
       "      <th>602</th>\n",
       "      <td>10</td>\n",
       "      <td>Love that the scent of this spray is not chemical smelling .</td>\n",
       "      <td>love scent spray chemical smelling</td>\n",
       "      <td>6</td>\n",
       "    </tr>\n",
       "    <tr>\n",
       "      <th>603</th>\n",
       "      <td>10</td>\n",
       "      <td>Bug spray does not smell nauseating .</td>\n",
       "      <td>bug spray smell nauseate</td>\n",
       "      <td>3</td>\n",
       "    </tr>\n",
       "  </tbody>\n",
       "</table>\n",
       "<p>604 rows × 4 columns</p>\n",
       "</div>"
      ],
      "text/plain": [
       "     cluster_id  \\\n",
       "0             0   \n",
       "1             0   \n",
       "2             0   \n",
       "3             0   \n",
       "4             0   \n",
       "..          ...   \n",
       "599          10   \n",
       "600          10   \n",
       "601          10   \n",
       "602          10   \n",
       "603          10   \n",
       "\n",
       "                                                                    phrase  \\\n",
       "0                              Would use the product again if needed Joe .   \n",
       "1                               Have been using the product for a week now   \n",
       "2                  Will continue to use this product when I have a issue .   \n",
       "3                            Have always had good luck with this product .   \n",
       "4    Will continue to use This product as This product gets the job done .   \n",
       "..                                                                     ...   \n",
       "599                                               Spray has no strong odor   \n",
       "600                 Spray is nice to keep out on the porch on a summer day   \n",
       "601                            Spray does not leave any oily stinky stains   \n",
       "602           Love that the scent of this spray is not chemical smelling .   \n",
       "603                                  Bug spray does not smell nauseating .   \n",
       "\n",
       "                                phrase_clean  topic  \n",
       "0                 would use product need joe      9  \n",
       "1                           use product week      9  \n",
       "2                 continue use product issue      9  \n",
       "3                   always good luck product      3  \n",
       "4    continue use product product get job do      9  \n",
       "..                                       ...    ...  \n",
       "599                        spray strong odor      6  \n",
       "600         spray nice keep porch summer day      1  \n",
       "601            spray leave oily stinky stain      7  \n",
       "602       love scent spray chemical smelling      6  \n",
       "603                 bug spray smell nauseate      3  \n",
       "\n",
       "[604 rows x 4 columns]"
      ]
     },
     "execution_count": 20,
     "metadata": {},
     "output_type": "execute_result"
    }
   ],
   "source": [
    "df['topic'] = topics\n",
    "\n",
    "df"
   ]
  },
  {
   "cell_type": "code",
   "execution_count": 21,
   "metadata": {},
   "outputs": [
    {
     "data": {
      "text/plain": [
       "(604, 2)"
      ]
     },
     "execution_count": 21,
     "metadata": {},
     "output_type": "execute_result"
    }
   ],
   "source": [
    "tsne = TSNE(n_components = 2, init = 'pca', random_state = 0)\n",
    "lda_2d_tsne = tsne.fit_transform(lda)\n",
    "lda_df_tsne = pd.DataFrame(lda_2d_tsne)\n",
    "lda_df_tsne.shape"
   ]
  },
  {
   "cell_type": "code",
   "execution_count": 22,
   "metadata": {},
   "outputs": [
    {
     "data": {
      "text/plain": [
       "<matplotlib.collections.PathCollection at 0x2531deac688>"
      ]
     },
     "execution_count": 22,
     "metadata": {},
     "output_type": "execute_result"
    },
    {
     "data": {
      "image/png": "[encoded data removed]",
      "text/plain": [
       "<Figure size 864x720 with 1 Axes>"
      ]
     },
     "metadata": {
      "needs_background": "light"
     },
     "output_type": "display_data"
    }
   ],
   "source": [
    "plt.subplots(figsize=(12, 10))\n",
    "plt.axis('equal')\n",
    "\n",
    "plt.scatter(lda_df_tsne[0], lda_df_tsne[1], c=df['topic'], cmap = plt.cm.Spectral)"
   ]
  },
  {
   "cell_type": "code",
   "execution_count": 23,
   "metadata": {},
   "outputs": [],
   "source": [
    "df.to_excel(\"output.xlsx\")"
   ]
  }
 ],
 "metadata": {
  "kernelspec": {
   "display_name": "Python 3",
   "language": "python",
   "name": "python3"
  },
  "language_info": {
   "codemirror_mode": {
    "name": "ipython",
    "version": 3
   },
   "file_extension": ".py",
   "mimetype": "text/x-python",
   "name": "python",
   "nbconvert_exporter": "python",
   "pygments_lexer": "ipython3",
   "version": "3.7.6"
  }
 },
 "nbformat": 4,
 "nbformat_minor": 4
}
