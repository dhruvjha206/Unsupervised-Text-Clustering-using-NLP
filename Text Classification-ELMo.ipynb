{
 "cells": [
  {
   "cell_type": "markdown",
   "metadata": {},
   "source": [
    "## Text Classification-ELMo\n"
   ]
  },
  {
   "cell_type": "code",
   "execution_count": 1,
   "metadata": {},
   "outputs": [],
   "source": [
    "#import libraries\n",
    "\n",
    "import numpy as np\n",
    "import pandas as pd\n",
    "import nltk\n",
    "import os\n",
    "import pandas as pd\n",
    "import numpy as np\n",
    "import seaborn as sns\n",
    "import spacy\n",
    "from tqdm import tqdm\n",
    "import re\n",
    "import time\n",
    "import pickle"
   ]
  },
  {
   "cell_type": "code",
   "execution_count": 2,
   "metadata": {},
   "outputs": [
    {
     "data": {
      "text/html": [
       "<div>\n",
       "<style scoped>\n",
       "    .dataframe tbody tr th:only-of-type {\n",
       "        vertical-align: middle;\n",
       "    }\n",
       "\n",
       "    .dataframe tbody tr th {\n",
       "        vertical-align: top;\n",
       "    }\n",
       "\n",
       "    .dataframe thead th {\n",
       "        text-align: right;\n",
       "    }\n",
       "</style>\n",
       "<table border=\"1\" class=\"dataframe\">\n",
       "  <thead>\n",
       "    <tr style=\"text-align: right;\">\n",
       "      <th></th>\n",
       "      <th>cluster_id</th>\n",
       "      <th>id</th>\n",
       "      <th>phrase</th>\n",
       "    </tr>\n",
       "  </thead>\n",
       "  <tbody>\n",
       "    <tr>\n",
       "      <th>0</th>\n",
       "      <td>0</td>\n",
       "      <td>0334a0d055104e9a931c079e338be9a1</td>\n",
       "      <td>Would use the product again if needed Joe .</td>\n",
       "    </tr>\n",
       "    <tr>\n",
       "      <th>1</th>\n",
       "      <td>0</td>\n",
       "      <td>796d6c25ab8849cbba427f1f3e250d80</td>\n",
       "      <td>Have been using the product for a week now</td>\n",
       "    </tr>\n",
       "    <tr>\n",
       "      <th>2</th>\n",
       "      <td>0</td>\n",
       "      <td>661f5299cd8944a8a3841fd4f049dee9</td>\n",
       "      <td>Will continue to use this product when I have ...</td>\n",
       "    </tr>\n",
       "    <tr>\n",
       "      <th>3</th>\n",
       "      <td>0</td>\n",
       "      <td>da831e4bc58d4505aec3c583f0248f8b</td>\n",
       "      <td>Have always had good luck with this product .</td>\n",
       "    </tr>\n",
       "    <tr>\n",
       "      <th>4</th>\n",
       "      <td>0</td>\n",
       "      <td>0ea997675e7344419d1540d3e0bc26c3</td>\n",
       "      <td>Will continue to use This product as This prod...</td>\n",
       "    </tr>\n",
       "    <tr>\n",
       "      <th>...</th>\n",
       "      <td>...</td>\n",
       "      <td>...</td>\n",
       "      <td>...</td>\n",
       "    </tr>\n",
       "    <tr>\n",
       "      <th>599</th>\n",
       "      <td>10</td>\n",
       "      <td>93f874167d11473f8d36d1cda0a0081c</td>\n",
       "      <td>Spray has no strong odor</td>\n",
       "    </tr>\n",
       "    <tr>\n",
       "      <th>600</th>\n",
       "      <td>10</td>\n",
       "      <td>d50fe37fab064408a891aa9ef45dcd70</td>\n",
       "      <td>Spray is nice to keep out on the porch on a su...</td>\n",
       "    </tr>\n",
       "    <tr>\n",
       "      <th>601</th>\n",
       "      <td>10</td>\n",
       "      <td>3e1e8901d5ab4fc9b602ecfdca1220cb</td>\n",
       "      <td>Spray does not leave any oily stinky stains</td>\n",
       "    </tr>\n",
       "    <tr>\n",
       "      <th>602</th>\n",
       "      <td>10</td>\n",
       "      <td>c84e1b1196a242d18938af6c60403afc</td>\n",
       "      <td>Love that the scent of this spray is not chemi...</td>\n",
       "    </tr>\n",
       "    <tr>\n",
       "      <th>603</th>\n",
       "      <td>10</td>\n",
       "      <td>fd4c71f399104d59ad6c1013fc414c67</td>\n",
       "      <td>Bug spray does not smell nauseating .</td>\n",
       "    </tr>\n",
       "  </tbody>\n",
       "</table>\n",
       "<p>604 rows × 3 columns</p>\n",
       "</div>"
      ],
      "text/plain": [
       "     cluster_id                                id  \\\n",
       "0             0  0334a0d055104e9a931c079e338be9a1   \n",
       "1             0  796d6c25ab8849cbba427f1f3e250d80   \n",
       "2             0  661f5299cd8944a8a3841fd4f049dee9   \n",
       "3             0  da831e4bc58d4505aec3c583f0248f8b   \n",
       "4             0  0ea997675e7344419d1540d3e0bc26c3   \n",
       "..          ...                               ...   \n",
       "599          10  93f874167d11473f8d36d1cda0a0081c   \n",
       "600          10  d50fe37fab064408a891aa9ef45dcd70   \n",
       "601          10  3e1e8901d5ab4fc9b602ecfdca1220cb   \n",
       "602          10  c84e1b1196a242d18938af6c60403afc   \n",
       "603          10  fd4c71f399104d59ad6c1013fc414c67   \n",
       "\n",
       "                                                phrase  \n",
       "0          Would use the product again if needed Joe .  \n",
       "1           Have been using the product for a week now  \n",
       "2    Will continue to use this product when I have ...  \n",
       "3        Have always had good luck with this product .  \n",
       "4    Will continue to use This product as This prod...  \n",
       "..                                                 ...  \n",
       "599                           Spray has no strong odor  \n",
       "600  Spray is nice to keep out on the porch on a su...  \n",
       "601        Spray does not leave any oily stinky stains  \n",
       "602  Love that the scent of this spray is not chemi...  \n",
       "603              Bug spray does not smell nauseating .  \n",
       "\n",
       "[604 rows x 3 columns]"
      ]
     },
     "execution_count": 2,
     "metadata": {},
     "output_type": "execute_result"
    }
   ],
   "source": [
    "#Load data\n",
    "df = pd.read_excel(r'C:\\Users\\Dhruv Kumar Jha\\Downloads\\Graphene AI\\Unsupervised-Text-Clustering using NLP\\interns-dataset.xlsx')\n",
    "df"
   ]
  },
  {
   "cell_type": "code",
   "execution_count": 3,
   "metadata": {},
   "outputs": [
    {
     "data": {
      "text/html": [
       "<div>\n",
       "<style scoped>\n",
       "    .dataframe tbody tr th:only-of-type {\n",
       "        vertical-align: middle;\n",
       "    }\n",
       "\n",
       "    .dataframe tbody tr th {\n",
       "        vertical-align: top;\n",
       "    }\n",
       "\n",
       "    .dataframe thead th {\n",
       "        text-align: right;\n",
       "    }\n",
       "</style>\n",
       "<table border=\"1\" class=\"dataframe\">\n",
       "  <thead>\n",
       "    <tr style=\"text-align: right;\">\n",
       "      <th></th>\n",
       "      <th>cluster_id</th>\n",
       "      <th>phrase</th>\n",
       "    </tr>\n",
       "  </thead>\n",
       "  <tbody>\n",
       "    <tr>\n",
       "      <th>0</th>\n",
       "      <td>0</td>\n",
       "      <td>Would use the product again if needed Joe .</td>\n",
       "    </tr>\n",
       "    <tr>\n",
       "      <th>1</th>\n",
       "      <td>0</td>\n",
       "      <td>Have been using the product for a week now</td>\n",
       "    </tr>\n",
       "    <tr>\n",
       "      <th>2</th>\n",
       "      <td>0</td>\n",
       "      <td>Will continue to use this product when I have ...</td>\n",
       "    </tr>\n",
       "    <tr>\n",
       "      <th>3</th>\n",
       "      <td>0</td>\n",
       "      <td>Have always had good luck with this product .</td>\n",
       "    </tr>\n",
       "    <tr>\n",
       "      <th>4</th>\n",
       "      <td>0</td>\n",
       "      <td>Will continue to use This product as This prod...</td>\n",
       "    </tr>\n",
       "    <tr>\n",
       "      <th>...</th>\n",
       "      <td>...</td>\n",
       "      <td>...</td>\n",
       "    </tr>\n",
       "    <tr>\n",
       "      <th>599</th>\n",
       "      <td>10</td>\n",
       "      <td>Spray has no strong odor</td>\n",
       "    </tr>\n",
       "    <tr>\n",
       "      <th>600</th>\n",
       "      <td>10</td>\n",
       "      <td>Spray is nice to keep out on the porch on a su...</td>\n",
       "    </tr>\n",
       "    <tr>\n",
       "      <th>601</th>\n",
       "      <td>10</td>\n",
       "      <td>Spray does not leave any oily stinky stains</td>\n",
       "    </tr>\n",
       "    <tr>\n",
       "      <th>602</th>\n",
       "      <td>10</td>\n",
       "      <td>Love that the scent of this spray is not chemi...</td>\n",
       "    </tr>\n",
       "    <tr>\n",
       "      <th>603</th>\n",
       "      <td>10</td>\n",
       "      <td>Bug spray does not smell nauseating .</td>\n",
       "    </tr>\n",
       "  </tbody>\n",
       "</table>\n",
       "<p>604 rows × 2 columns</p>\n",
       "</div>"
      ],
      "text/plain": [
       "     cluster_id                                             phrase\n",
       "0             0        Would use the product again if needed Joe .\n",
       "1             0         Have been using the product for a week now\n",
       "2             0  Will continue to use this product when I have ...\n",
       "3             0      Have always had good luck with this product .\n",
       "4             0  Will continue to use This product as This prod...\n",
       "..          ...                                                ...\n",
       "599          10                           Spray has no strong odor\n",
       "600          10  Spray is nice to keep out on the porch on a su...\n",
       "601          10        Spray does not leave any oily stinky stains\n",
       "602          10  Love that the scent of this spray is not chemi...\n",
       "603          10              Bug spray does not smell nauseating .\n",
       "\n",
       "[604 rows x 2 columns]"
      ]
     },
     "execution_count": 3,
     "metadata": {},
     "output_type": "execute_result"
    }
   ],
   "source": [
    "df.drop(df.columns[[1]], axis=1, inplace=True)\n",
    "df"
   ]
  },
  {
   "cell_type": "code",
   "execution_count": 4,
   "metadata": {},
   "outputs": [
    {
     "name": "stdout",
     "output_type": "stream",
     "text": [
      "Wall time: 2.04 s\n"
     ]
    },
    {
     "data": {
      "text/html": [
       "<div>\n",
       "<style scoped>\n",
       "    .dataframe tbody tr th:only-of-type {\n",
       "        vertical-align: middle;\n",
       "    }\n",
       "\n",
       "    .dataframe tbody tr th {\n",
       "        vertical-align: top;\n",
       "    }\n",
       "\n",
       "    .dataframe thead th {\n",
       "        text-align: right;\n",
       "    }\n",
       "</style>\n",
       "<table border=\"1\" class=\"dataframe\">\n",
       "  <thead>\n",
       "    <tr style=\"text-align: right;\">\n",
       "      <th></th>\n",
       "      <th>cluster_id</th>\n",
       "      <th>phrase</th>\n",
       "      <th>clean_phrase</th>\n",
       "    </tr>\n",
       "  </thead>\n",
       "  <tbody>\n",
       "    <tr>\n",
       "      <th>0</th>\n",
       "      <td>0</td>\n",
       "      <td>Would use the product again if needed Joe .</td>\n",
       "      <td>would use product need joe</td>\n",
       "    </tr>\n",
       "    <tr>\n",
       "      <th>1</th>\n",
       "      <td>0</td>\n",
       "      <td>Have been using the product for a week now</td>\n",
       "      <td>use product week</td>\n",
       "    </tr>\n",
       "    <tr>\n",
       "      <th>2</th>\n",
       "      <td>0</td>\n",
       "      <td>Will continue to use this product when I have ...</td>\n",
       "      <td>continue use product issue</td>\n",
       "    </tr>\n",
       "    <tr>\n",
       "      <th>3</th>\n",
       "      <td>0</td>\n",
       "      <td>Have always had good luck with this product .</td>\n",
       "      <td>always good luck product</td>\n",
       "    </tr>\n",
       "    <tr>\n",
       "      <th>4</th>\n",
       "      <td>0</td>\n",
       "      <td>Will continue to use This product as This prod...</td>\n",
       "      <td>continue use product product get job do</td>\n",
       "    </tr>\n",
       "    <tr>\n",
       "      <th>...</th>\n",
       "      <td>...</td>\n",
       "      <td>...</td>\n",
       "      <td>...</td>\n",
       "    </tr>\n",
       "    <tr>\n",
       "      <th>599</th>\n",
       "      <td>10</td>\n",
       "      <td>Spray has no strong odor</td>\n",
       "      <td>spray strong odor</td>\n",
       "    </tr>\n",
       "    <tr>\n",
       "      <th>600</th>\n",
       "      <td>10</td>\n",
       "      <td>Spray is nice to keep out on the porch on a su...</td>\n",
       "      <td>spray nice keep porch summer day</td>\n",
       "    </tr>\n",
       "    <tr>\n",
       "      <th>601</th>\n",
       "      <td>10</td>\n",
       "      <td>Spray does not leave any oily stinky stains</td>\n",
       "      <td>spray leave oily stinky stain</td>\n",
       "    </tr>\n",
       "    <tr>\n",
       "      <th>602</th>\n",
       "      <td>10</td>\n",
       "      <td>Love that the scent of this spray is not chemi...</td>\n",
       "      <td>love scent spray chemical smelling</td>\n",
       "    </tr>\n",
       "    <tr>\n",
       "      <th>603</th>\n",
       "      <td>10</td>\n",
       "      <td>Bug spray does not smell nauseating .</td>\n",
       "      <td>bug spray smell nauseate</td>\n",
       "    </tr>\n",
       "  </tbody>\n",
       "</table>\n",
       "<p>604 rows × 3 columns</p>\n",
       "</div>"
      ],
      "text/plain": [
       "     cluster_id                                             phrase  \\\n",
       "0             0        Would use the product again if needed Joe .   \n",
       "1             0         Have been using the product for a week now   \n",
       "2             0  Will continue to use this product when I have ...   \n",
       "3             0      Have always had good luck with this product .   \n",
       "4             0  Will continue to use This product as This prod...   \n",
       "..          ...                                                ...   \n",
       "599          10                           Spray has no strong odor   \n",
       "600          10  Spray is nice to keep out on the porch on a su...   \n",
       "601          10        Spray does not leave any oily stinky stains   \n",
       "602          10  Love that the scent of this spray is not chemi...   \n",
       "603          10              Bug spray does not smell nauseating .   \n",
       "\n",
       "                                clean_phrase  \n",
       "0                 would use product need joe  \n",
       "1                           use product week  \n",
       "2                 continue use product issue  \n",
       "3                   always good luck product  \n",
       "4    continue use product product get job do  \n",
       "..                                       ...  \n",
       "599                        spray strong odor  \n",
       "600         spray nice keep porch summer day  \n",
       "601            spray leave oily stinky stain  \n",
       "602       love scent spray chemical smelling  \n",
       "603                 bug spray smell nauseate  \n",
       "\n",
       "[604 rows x 3 columns]"
      ]
     },
     "execution_count": 4,
     "metadata": {},
     "output_type": "execute_result"
    }
   ],
   "source": [
    "%%time\n",
    "\n",
    "# return the wordnet object value corresponding to the POS tag\n",
    "from nltk.corpus import wordnet\n",
    "\n",
    "def get_wordnet_pos(pos_tag):\n",
    "    if pos_tag.startswith('J'):\n",
    "        return wordnet.ADJ\n",
    "    elif pos_tag.startswith('V'):\n",
    "        return wordnet.VERB\n",
    "    elif pos_tag.startswith('N'):\n",
    "        return wordnet.NOUN\n",
    "    elif pos_tag.startswith('R'):\n",
    "        return wordnet.ADV\n",
    "    else:\n",
    "        return wordnet.NOUN\n",
    "    \n",
    "import string\n",
    "from nltk import pos_tag\n",
    "from nltk.corpus import stopwords\n",
    "from nltk.tokenize import WhitespaceTokenizer\n",
    "from nltk.stem import WordNetLemmatizer\n",
    "\n",
    "def clean_text(text):\n",
    "    # lower text\n",
    "    text = text.lower()\n",
    "    # tokenize text and remove puncutation\n",
    "    text = [word.strip(string.punctuation) for word in text.split(\" \")]\n",
    "    # remove words that contain numbers\n",
    "    text = [word for word in text if not any(c.isdigit() for c in word)]\n",
    "    # remove stop words\n",
    "    stop = stopwords.words('english')\n",
    "    text = [x for x in text if x not in stop]\n",
    "    # remove empty tokens\n",
    "    text = [t for t in text if len(t) > 0]\n",
    "    # pos tag text\n",
    "    pos_tags = pos_tag(text)\n",
    "    # lemmatize text\n",
    "    text = [WordNetLemmatizer().lemmatize(t[0], get_wordnet_pos(t[1])) for t in pos_tags]\n",
    "    # remove words with only one letter\n",
    "    text = [t for t in text if len(t) > 1]\n",
    "    # join all\n",
    "    text = \" \".join(text)\n",
    "    return(text)\n",
    "\n",
    "# clean text data\n",
    "df[\"clean_phrase\"] = df[\"phrase\"].apply(lambda x: clean_text(x))\n",
    "\n",
    "df"
   ]
  },
  {
   "cell_type": "code",
   "execution_count": 5,
   "metadata": {},
   "outputs": [
    {
     "data": {
      "text/plain": [
       "(604, 3)"
      ]
     },
     "execution_count": 5,
     "metadata": {},
     "output_type": "execute_result"
    }
   ],
   "source": [
    "df.shape"
   ]
  },
  {
   "cell_type": "code",
   "execution_count": 6,
   "metadata": {},
   "outputs": [
    {
     "data": {
      "text/plain": [
       "array([ 0,  1,  2,  3,  4,  5,  6,  7,  8,  9, 10], dtype=int64)"
      ]
     },
     "execution_count": 6,
     "metadata": {},
     "output_type": "execute_result"
    }
   ],
   "source": [
    "df['cluster_id'].unique()"
   ]
  },
  {
   "cell_type": "code",
   "execution_count": 7,
   "metadata": {},
   "outputs": [
    {
     "data": {
      "text/plain": [
       "7     80\n",
       "10    80\n",
       "0     60\n",
       "1     60\n",
       "2     60\n",
       "4     60\n",
       "6     60\n",
       "5     57\n",
       "8     47\n",
       "3     23\n",
       "9     17\n",
       "Name: cluster_id, dtype: int64"
      ]
     },
     "execution_count": 7,
     "metadata": {},
     "output_type": "execute_result"
    }
   ],
   "source": [
    "df['cluster_id'].value_counts()"
   ]
  },
  {
   "cell_type": "code",
   "execution_count": 8,
   "metadata": {},
   "outputs": [
    {
     "data": {
      "text/plain": [
       "<AxesSubplot:xlabel='cluster_id', ylabel='count'>"
      ]
     },
     "execution_count": 8,
     "metadata": {},
     "output_type": "execute_result"
    },
    {
     "data": {
      "image/png": "[encoded data removed]",
      "text/plain": [
       "<Figure size 432x288 with 1 Axes>"
      ]
     },
     "metadata": {
      "needs_background": "light"
     },
     "output_type": "display_data"
    }
   ],
   "source": [
    "sns.set(rc={'figure.figsize':(8,8)})\n",
    "sns.countplot(df['cluster_id'])"
   ]
  },
  {
   "cell_type": "code",
   "execution_count": 9,
   "metadata": {},
   "outputs": [],
   "source": [
    "import tensorflow_hub as hub\n",
    "import tensorflow as tf\n",
    "\n",
    "embed = hub.Module(\"https://tfhub.dev/google/elmo/2\", trainable=True)"
   ]
  },
  {
   "cell_type": "code",
   "execution_count": 10,
   "metadata": {},
   "outputs": [
    {
     "name": "stdout",
     "output_type": "stream",
     "text": [
      "INFO:tensorflow:Saver not created because there are no variables in the graph to restore\n"
     ]
    },
    {
     "name": "stderr",
     "output_type": "stream",
     "text": [
      "INFO:tensorflow:Saver not created because there are no variables in the graph to restore\n"
     ]
    },
    {
     "data": {
      "text/plain": [
       "TensorShape([Dimension(1), Dimension(8), Dimension(1024)])"
      ]
     },
     "execution_count": 10,
     "metadata": {},
     "output_type": "execute_result"
    }
   ],
   "source": [
    "# just a random sentence\n",
    "x = [\"Roasted ants are a popular snack in Columbia\"]\n",
    "\n",
    "# Extract ELMo features \n",
    "embeddings = embed(x, signature=\"default\", as_dict=True)[\"elmo\"]\n",
    "\n",
    "embeddings.shape"
   ]
  },
  {
   "cell_type": "code",
   "execution_count": 11,
   "metadata": {},
   "outputs": [],
   "source": [
    "from sklearn import preprocessing\n",
    "from tensorflow import keras \n",
    "\n",
    "y = list(df['cluster_id'])\n",
    "x = list(df['clean_phrase'])\n",
    "\n",
    "en = preprocessing.LabelEncoder()\n",
    "en.fit(y)\n",
    "\n",
    "def encode(en, labels):\n",
    "    enc = en.transform(labels)\n",
    "    return keras.utils.to_categorical(enc)\n",
    "\n",
    "def decode(en, one_hot):\n",
    "    dec = np.argmax(one_hot, axis=1)\n",
    "    return en.inverse_transform(dec)\n",
    "\n",
    "\n",
    "x_enc = x\n",
    "y_enc = encode(en, y)"
   ]
  },
  {
   "cell_type": "code",
   "execution_count": 12,
   "metadata": {},
   "outputs": [],
   "source": [
    "from sklearn.model_selection import train_test_split\n",
    "\n",
    "x_train, x_test, y_train, y_test = train_test_split(np.asarray(x_enc), np.asarray(y_enc), test_size=0.2, random_state=42)"
   ]
  },
  {
   "cell_type": "code",
   "execution_count": 13,
   "metadata": {},
   "outputs": [
    {
     "data": {
      "text/plain": [
       "(483,)"
      ]
     },
     "execution_count": 13,
     "metadata": {},
     "output_type": "execute_result"
    }
   ],
   "source": [
    "x_train.shape"
   ]
  },
  {
   "cell_type": "code",
   "execution_count": 15,
   "metadata": {},
   "outputs": [
    {
     "name": "stdout",
     "output_type": "stream",
     "text": [
      "INFO:tensorflow:Saver not created because there are no variables in the graph to restore\n"
     ]
    },
    {
     "name": "stderr",
     "output_type": "stream",
     "text": [
      "INFO:tensorflow:Saver not created because there are no variables in the graph to restore\n"
     ]
    },
    {
     "name": "stdout",
     "output_type": "stream",
     "text": [
      "Train on 483 samples\n",
      "Epoch 1/5\n",
      "483/483 [==============================] - 30s 63ms/sample - loss: 1.0168 - acc: 0.6894\n",
      "Epoch 2/5\n",
      "483/483 [==============================] - 32s 66ms/sample - loss: 0.2353 - acc: 0.9275\n",
      "Epoch 3/5\n",
      "483/483 [==============================] - 35s 72ms/sample - loss: 0.1094 - acc: 0.9710\n",
      "Epoch 4/5\n",
      "483/483 [==============================] - 34s 70ms/sample - loss: 0.0794 - acc: 0.9814\n",
      "Epoch 5/5\n",
      "483/483 [==============================] - 33s 68ms/sample - loss: 0.0517 - acc: 0.9876\n"
     ]
    }
   ],
   "source": [
    "from tensorflow.keras.layers import Input, Lambda, Dense\n",
    "from tensorflow.keras.models import Model\n",
    "import tensorflow.keras.backend as K\n",
    "\n",
    "def ELMoEmbedding(x):\n",
    "    return embed(tf.squeeze(tf.cast(x, tf.string)), signature=\"default\", as_dict=True)[\"default\"]\n",
    "\n",
    "input_text = Input(shape=(1,), dtype=tf.string)\n",
    "embedding = Lambda(ELMoEmbedding, output_shape=(1024, ))(input_text)\n",
    "dense = Dense(512, activation='relu')(embedding)\n",
    "pred = Dense(11, activation='softmax')(dense)\n",
    "model = Model(inputs=[input_text], outputs=pred)\n",
    "model.compile(loss='categorical_crossentropy', optimizer='adam', metrics=['accuracy'])\n",
    "\n",
    "with tf.Session() as session:\n",
    "    K.set_session(session)\n",
    "    session.run(tf.global_variables_initializer())  \n",
    "    session.run(tf.tables_initializer())\n",
    "    history = model.fit(x_train, y_train, epochs=5, batch_size=16)\n",
    "    model.save_weights('./elmo-model.h5')\n",
    "\n",
    "with tf.Session() as session:\n",
    "    K.set_session(session)\n",
    "    session.run(tf.global_variables_initializer())\n",
    "    session.run(tf.tables_initializer())\n",
    "    model.load_weights('./elmo-model.h5')  \n",
    "    predicts = model.predict(x_test, batch_size=16)"
   ]
  },
  {
   "cell_type": "code",
   "execution_count": 16,
   "metadata": {},
   "outputs": [],
   "source": [
    "# decode test labels\n",
    "y_test = decode(en, y_test)\n",
    "# decode predicted labels\n",
    "y_preds = decode(en, predicts)"
   ]
  },
  {
   "cell_type": "code",
   "execution_count": 17,
   "metadata": {},
   "outputs": [
    {
     "name": "stdout",
     "output_type": "stream",
     "text": [
      "[[ 8  0  0  0  0  0  0  1  0  0  0]\n",
      " [ 0 18  0  0  0  0  0  0  0  0  1]\n",
      " [ 0  0 10  0  0  0  0  0  0  0  0]\n",
      " [ 1  0  0  5  0  0  0  0  0  0  0]\n",
      " [ 0  0  0  0 11  2  0  0  0  0  0]\n",
      " [ 0  0  0  0  0  9  0  0  0  0  0]\n",
      " [ 0  0  0  0  0  0  8  0  0  0  4]\n",
      " [ 0  0  0  0  0  0  0 14  1  0  0]\n",
      " [ 0  0  1  0  0  0  0  0  4  0  0]\n",
      " [ 0  0  0  0  0  0  0  0  0  3  0]\n",
      " [ 0  0  0  0  0  0  1  0  1  0 18]]\n"
     ]
    }
   ],
   "source": [
    "from sklearn import metrics\n",
    "\n",
    "print(metrics.confusion_matrix(y_test, y_preds))"
   ]
  },
  {
   "cell_type": "code",
   "execution_count": 18,
   "metadata": {},
   "outputs": [
    {
     "name": "stdout",
     "output_type": "stream",
     "text": [
      "              precision    recall  f1-score   support\n",
      "\n",
      "           0       0.89      0.89      0.89         9\n",
      "           1       1.00      0.95      0.97        19\n",
      "           2       0.91      1.00      0.95        10\n",
      "           3       1.00      0.83      0.91         6\n",
      "           4       1.00      0.85      0.92        13\n",
      "           5       0.82      1.00      0.90         9\n",
      "           6       0.89      0.67      0.76        12\n",
      "           7       0.93      0.93      0.93        15\n",
      "           8       0.67      0.80      0.73         5\n",
      "           9       1.00      1.00      1.00         3\n",
      "          10       0.78      0.90      0.84        20\n",
      "\n",
      "    accuracy                           0.89       121\n",
      "   macro avg       0.90      0.89      0.89       121\n",
      "weighted avg       0.90      0.89      0.89       121\n",
      "\n"
     ]
    }
   ],
   "source": [
    "print(metrics.classification_report(y_test, y_preds))"
   ]
  },
  {
   "cell_type": "code",
   "execution_count": 19,
   "metadata": {},
   "outputs": [
    {
     "name": "stdout",
     "output_type": "stream",
     "text": [
      "Accuracy of ELMO is: 0.8925619834710744\n"
     ]
    }
   ],
   "source": [
    "from sklearn.metrics import accuracy_score\n",
    "\n",
    "print(\"Accuracy of ELMO is:\", accuracy_score(y_test,y_preds))"
   ]
  }
 ],
 "metadata": {
  "kernelspec": {
   "display_name": "Python 3",
   "language": "python",
   "name": "python3"
  },
  "language_info": {
   "codemirror_mode": {
    "name": "ipython",
    "version": 3
   },
   "file_extension": ".py",
   "mimetype": "text/x-python",
   "name": "python",
   "nbconvert_exporter": "python",
   "pygments_lexer": "ipython3",
   "version": "3.7.6"
  }
 },
 "nbformat": 4,
 "nbformat_minor": 4
}
